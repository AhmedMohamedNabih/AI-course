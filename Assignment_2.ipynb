{
  "nbformat": 4,
  "nbformat_minor": 0,
  "metadata": {
    "colab": {
      "provenance": [],
      "include_colab_link": true
    },
    "kernelspec": {
      "name": "python3",
      "display_name": "Python 3"
    },
    "language_info": {
      "name": "python"
    }
  },
  "cells": [
    {
      "cell_type": "markdown",
      "metadata": {
        "id": "view-in-github",
        "colab_type": "text"
      },
      "source": [
        "<a href=\"https://colab.research.google.com/github/AhmedMohamedNabih/AI-course/blob/main/Assignment_2.ipynb\" target=\"_parent\"><img src=\"https://colab.research.google.com/assets/colab-badge.svg\" alt=\"Open In Colab\"/></a>"
      ]
    },
    {
      "cell_type": "markdown",
      "source": [
        "**Write a Python function to perform linear search on a list**"
      ],
      "metadata": {
        "id": "zICmOr3xM7P3"
      }
    },
    {
      "cell_type": "code",
      "source": [
        "def liner(l,num):\n",
        "    for i in range(len(l)):\n",
        "        if l[i]==num:\n",
        "            print('found')\n",
        "            break\n",
        "        else:\n",
        "            print('not found')\n",
        "arr=[1,2,3,4,5,6,7,8,9,10]\n",
        "y=int(input(\"inter a number\"))\n",
        "liner(arr,y)"
      ],
      "metadata": {
        "id": "OHAie4ZsNkge",
        "colab": {
          "base_uri": "https://localhost:8080/"
        },
        "outputId": "e9d97c75-b4aa-4dbc-e129-bdfe4256dc01"
      },
      "execution_count": null,
      "outputs": [
        {
          "output_type": "stream",
          "name": "stdout",
          "text": [
            "inter a number5\n",
            "not found\n",
            "not found\n",
            "not found\n",
            "not found\n",
            "found\n"
          ]
        }
      ]
    },
    {
      "cell_type": "markdown",
      "source": [
        "**Modify the function to return the index of all occurrences of the search element.\n",
        "t**"
      ],
      "metadata": {
        "id": "9gt2NeSINAee"
      }
    },
    {
      "cell_type": "code",
      "source": [
        "def index(l,num):\n",
        "    for i in range(len(l)):\n",
        "        if l[i]==num:\n",
        "            print(i)\n",
        "x=[1,2,3,4,5,6,7,8,9]\n",
        "y=int(input(\"inter a number\"))\n",
        "index(x,y)\n"
      ],
      "metadata": {
        "id": "Drr34lZZNlcd",
        "colab": {
          "base_uri": "https://localhost:8080/"
        },
        "outputId": "80a0246a-392e-4247-c3c9-38bf7941dee9"
      },
      "execution_count": null,
      "outputs": [
        {
          "output_type": "stream",
          "name": "stdout",
          "text": [
            "inter a number3\n",
            "2\n"
          ]
        }
      ]
    },
    {
      "cell_type": "markdown",
      "source": [
        "**Create a program to find the maximum element in a list using linear search.**"
      ],
      "metadata": {
        "id": "15VW81ZmNnYt"
      }
    },
    {
      "cell_type": "code",
      "source": [
        "def f_max(l):\n",
        "    x=l[0]\n",
        "    for i in l:\n",
        "        if i>x:\n",
        "            print('number is equail',i)\n",
        "z=[1,2,3,4,5,6,7,8]\n",
        "f_max(z)"
      ],
      "metadata": {
        "id": "Cv04SYmZNvfU",
        "colab": {
          "base_uri": "https://localhost:8080/"
        },
        "outputId": "282ff9ac-cf7f-400a-d83a-2f062c025359"
      },
      "execution_count": null,
      "outputs": [
        {
          "output_type": "stream",
          "name": "stdout",
          "text": [
            "number is equail 2\n",
            "number is equail 3\n",
            "number is equail 4\n",
            "number is equail 5\n",
            "number is equail 6\n",
            "number is equail 7\n",
            "number is equail 8\n"
          ]
        }
      ]
    },
    {
      "cell_type": "markdown",
      "source": [
        "**Implement binary search iteratively in Python**"
      ],
      "metadata": {
        "id": "CC1d9lWHNy4G"
      }
    },
    {
      "cell_type": "code",
      "source": [
        "x"
      ],
      "metadata": {
        "id": "qNlprj2ON2sN"
      },
      "execution_count": null,
      "outputs": []
    },
    {
      "cell_type": "markdown",
      "source": [
        "**Implement binary search recursively in Python**"
      ],
      "metadata": {
        "id": "zdFByPpjN9VF"
      }
    },
    {
      "cell_type": "code",
      "source": [],
      "metadata": {
        "id": "-ukDAxmLOAh9"
      },
      "execution_count": null,
      "outputs": []
    },
    {
      "cell_type": "markdown",
      "source": [
        "**Write a program to check if a list is sorted in ascending order using binary search**"
      ],
      "metadata": {
        "id": "XfCbhOl7ODkc"
      }
    },
    {
      "cell_type": "code",
      "source": [
        "x=[1,2,3,4,5,6,7,8,9]\n",
        "y=[2,1,6,5,4,3,9,8]\n",
        "if x==sorted(x):\n",
        "    print('sorted')\n",
        "else:\n",
        "    print('not sorted')\n",
        "if y==sorted(y):\n",
        "    print('sorted')\n",
        "else:\n",
        "    print('unsorted')"
      ],
      "metadata": {
        "id": "f4I1O1IhOGEd"
      },
      "execution_count": null,
      "outputs": []
    },
    {
      "cell_type": "markdown",
      "source": [
        "**Write a Python program to calculate the factorial of a number using a for loop**"
      ],
      "metadata": {
        "id": "5AxShFTYOI90"
      }
    },
    {
      "cell_type": "code",
      "source": [
        "def fac(x):\n",
        "    fact=x\n",
        "    for i in range(1,x):\n",
        "        fact=fact*i\n",
        "    return fact\n",
        "x=int(input('inter a number'))\n",
        "print(fac(x))"
      ],
      "metadata": {
        "id": "klPJU-ktOL99"
      },
      "execution_count": null,
      "outputs": []
    },
    {
      "cell_type": "markdown",
      "source": [
        "**Create a program to generate the Fibonacci sequence up to a certain number of terms using a for loop**"
      ],
      "metadata": {
        "id": "zSD3eH32OOzk"
      }
    },
    {
      "cell_type": "code",
      "source": [
        "def fibonacci(x):\n",
        "    if x<=0:\n",
        "        return[]\n",
        "    elif x==1:\n",
        "        return [0]\n",
        "    else:\n",
        "        List=[0,1]\n",
        "        for i in range(2,x):\n",
        "            Next=List[i-1]+List[i-2]\n",
        "            List.append(Next)\n",
        "        return List\n",
        "y=int(input('inter a number'))\n",
        "print(fibonacci(y))"
      ],
      "metadata": {
        "id": "dz4mWwn-OSG0"
      },
      "execution_count": null,
      "outputs": []
    },
    {
      "cell_type": "markdown",
      "source": [
        "**Write a function to compute the sum of all elements in a list using a for loop**"
      ],
      "metadata": {
        "id": "e7q768hsOUvs"
      }
    },
    {
      "cell_type": "code",
      "source": [
        "def sum(x):\n",
        "    sum=0\n",
        "    for i in range(len(x)):\n",
        "        sum=sum+x[i]\n",
        "    return sum\n",
        "x=[1,2,3,4]\n",
        "print(sum(x))"
      ],
      "metadata": {
        "id": "hbJ3q5GDOXc0"
      },
      "execution_count": null,
      "outputs": []
    },
    {
      "cell_type": "markdown",
      "source": [
        "**Write a Python function to check if a number is prime**"
      ],
      "metadata": {
        "id": "Xc87j9nmObmM"
      }
    },
    {
      "cell_type": "code",
      "source": [
        "def prime(x):\n",
        "    IsPrime=True\n",
        "    if x>=2:\n",
        "        for i in range(2,x):\n",
        "            if x%i==0:\n",
        "                IsPrime=False\n",
        "                break\n",
        "    else :\n",
        "        IsPrime=False\n",
        "    return IsPrime\n",
        "x=int(input(\"enter a number\"))\n",
        "if prime(x):\n",
        "    print(\"prime!\")\n",
        "else :\n",
        "    print(\"not prime!\")\n"
      ],
      "metadata": {
        "id": "VmxNLFacOfFk"
      },
      "execution_count": null,
      "outputs": []
    },
    {
      "cell_type": "markdown",
      "source": [
        "**Create a function to reverse a string using recursion**"
      ],
      "metadata": {
        "id": "fPpLblWXOhDU"
      }
    },
    {
      "cell_type": "code",
      "source": [
        "def reverse(x):\n",
        "    return x[::-1]\n",
        "x=input('inter a word')\n",
        "print(reverse(x))\n"
      ],
      "metadata": {
        "id": "ysB4Q620Oj40"
      },
      "execution_count": null,
      "outputs": []
    },
    {
      "cell_type": "markdown",
      "source": [
        "**Write a program that takes a list of integers and returns the largest number using a function**"
      ],
      "metadata": {
        "id": "4qLP9xYTOltk"
      }
    },
    {
      "cell_type": "code",
      "source": [
        "def largest(x):\n",
        "    largest=x[0]\n",
        "    for i in x:\n",
        "        if i>largest:\n",
        "            largest=i\n",
        "    print(largest)\n",
        "\n",
        "x=[1,2,3,4,5,6]\n",
        "(largest(x))\n"
      ],
      "metadata": {
        "id": "9wJQseoeOnis"
      },
      "execution_count": null,
      "outputs": []
    },
    {
      "cell_type": "markdown",
      "source": [
        "**Implement selection sort using a function and demonstrate its usage**"
      ],
      "metadata": {
        "id": "2ds4zQmGOpv0"
      }
    },
    {
      "cell_type": "code",
      "source": [
        "def selection_sort(arr):\n",
        "    n = len(arr)\n",
        "    for i in range(n):\n",
        "        min_idx = i\n",
        "        for j in range(i + 1, n):\n",
        "            if arr[j] < arr[min_idx]:\n",
        "                min_idx = j\n",
        "        arr[i], arr[min_idx] = arr[min_idx], arr[i]\n",
        "\n",
        "sample_list = [64, 25, 12, 22, 11]\n",
        "print( sample_list)\n",
        "\n",
        "selection_sort(sample_list)\n",
        "print(sample_list)"
      ],
      "metadata": {
        "id": "rYSs7DnOasEJ"
      },
      "execution_count": null,
      "outputs": []
    },
    {
      "cell_type": "markdown",
      "source": [
        "**Create a program that uses a function to find the intersection of two lists.**"
      ],
      "metadata": {
        "id": "9d9LdXoRatvh"
      }
    },
    {
      "cell_type": "code",
      "source": [
        "def intersection(num1,num2):\n",
        "    intersection=[]\n",
        "    for i in num1:\n",
        "        if i in num2:\n",
        "            intersection.append(i)\n",
        "    return intersection\n",
        "num1=[1,3,5,6,7]\n",
        "num2=[1,9,2,3]\n",
        "result=intersection(num1,num2)\n",
        "print(result)"
      ],
      "metadata": {
        "id": "_Z-6KUMihtZ2"
      },
      "execution_count": null,
      "outputs": []
    }
  ]
}