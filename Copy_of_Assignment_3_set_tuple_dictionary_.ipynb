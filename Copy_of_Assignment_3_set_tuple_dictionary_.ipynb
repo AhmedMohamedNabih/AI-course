{
  "nbformat": 4,
  "nbformat_minor": 0,
  "metadata": {
    "colab": {
      "provenance": [],
      "include_colab_link": true
    },
    "kernelspec": {
      "name": "python3",
      "display_name": "Python 3"
    },
    "language_info": {
      "name": "python"
    }
  },
  "cells": [
    {
      "cell_type": "markdown",
      "metadata": {
        "id": "view-in-github",
        "colab_type": "text"
      },
      "source": [
        "<a href=\"https://colab.research.google.com/github/AhmedMohamedNabih/AI-course/blob/main/Copy_of_Assignment_3_set_tuple_dictionary_.ipynb\" target=\"_parent\"><img src=\"https://colab.research.google.com/assets/colab-badge.svg\" alt=\"Open In Colab\"/></a>"
      ]
    },
    {
      "cell_type": "markdown",
      "source": [],
      "metadata": {
        "id": "O8Z3d6fSoTn-"
      }
    },
    {
      "cell_type": "markdown",
      "source": [
        "# Problem 1: Set Operations\n",
        "\n",
        "# Define two sets, A and B, with at least 5 elements each.\n",
        "# Write a function to find the union of sets A and B.\n",
        "# Write a function to find the intersection of sets A and B.\n",
        "#Write a function to find the difference between sets A and B (elements in A but not in B).\n",
        "# Write a function to check if set A is a subset of set B.\n",
        "# Write a function to find the symmetric difference between sets A and B.\n",
        "# Write a function to remove duplicates from a list and convert it into a set.\n",
        "# Write a function to determine if two sets have any elements in common.\n",
        "# Write a function to check if a set is empty.\n",
        "# Write a function to remove a specific element from a set.\n",
        "# Write a function to check if two sets are disjoint (have no elements in common).\n",
        "# Write a function to find the Cartesian product of two sets.\n",
        "# Write a function to generate the power set of a set.\n",
        "# Write a function to find the maximum and minimum elements of a set.\n",
        "# Write a function to calculate the Jaccard similarity coefficient between two sets."
      ],
      "metadata": {
        "id": "Lo-Xc4qAopsg"
      }
    },
    {
      "cell_type": "code",
      "source": [
        "def union(a,b):\n",
        "    return a|b\n",
        "def intersection(a,b):\n",
        "    return a&b\n",
        "def diffrent(a,b):\n",
        "    return a-b\n",
        "def subset(a,b):\n",
        "    return a<=b\n",
        "def s_diffrent(a,b):\n",
        "    return a^b\n",
        "def remove_diplicate(a):\n",
        "    x=[]\n",
        "    for i in a:\n",
        "        if i not in x:\n",
        "            x.append(i)\n",
        "    return set(x)\n",
        "def common(a,b):\n",
        "    if a.isdisjoint(b):\n",
        "        return False\n",
        "    else:\n",
        "        return True\n",
        "def is_empty(a):\n",
        "    if len(a)==0:\n",
        "        print('empty')\n",
        "    else:\n",
        "        print('not empty')\n",
        "\n",
        "def remove_element(a,b):\n",
        "  if b not in a:\n",
        "    print(\"Element Not Found\")\n",
        "  else:\n",
        "    a.remove(b)\n",
        "    print(\"Set After Remove :\",a)\n",
        "def is_joint(a,b):\n",
        "    if a.isdisjoint(b):\n",
        "        print('not joint')\n",
        "    else:\n",
        "        print('joint')\n",
        "def max_min(a):\n",
        "    print(max(a))\n",
        "    print(min(a))\n",
        "def jaccard_similarity(a,b):\n",
        "  intersection = len(a & b)\n",
        "  union = len(a | b)\n",
        "  return intersection / union\n",
        "a={1,2,2,3,4}\n",
        "b={2,3,4,5,6}\n",
        "print(union(a,b))\n",
        "print(intersection(a,b))\n",
        "print(diffrent(a,b))\n",
        "print(subset(a,b))\n",
        "print(s_diffrent(a,b))\n",
        "print(remove_diplicate(a))\n",
        "print(is_empty(a))\n",
        "print(remove_diplicate(a))\n",
        "print(common(a,b))\n",
        "print(remove_element(a,b))\n",
        "print( max_min(a))\n"
      ],
      "metadata": {
        "colab": {
          "base_uri": "https://localhost:8080/"
        },
        "id": "smbmutKTZ55V",
        "outputId": "01ea6bd8-436d-471a-ec76-3db48d673b1e"
      },
      "execution_count": null,
      "outputs": [
        {
          "output_type": "stream",
          "name": "stdout",
          "text": [
            "{1, 2, 3, 4, 5, 6}\n",
            "{2, 3, 4}\n",
            "{1}\n",
            "False\n",
            "{1, 5, 6}\n",
            "{1, 2, 3, 4}\n",
            "not empty\n",
            "None\n",
            "{1, 2, 3, 4}\n",
            "True\n",
            "Element Not Found\n",
            "None\n",
            "4\n",
            "1\n",
            "None\n"
          ]
        }
      ]
    },
    {
      "cell_type": "markdown",
      "source": [
        "# Problem 2: Dictionary Manipulation\n",
        "\n",
        "# Create a dictionary representing the population of fifteen countries.\n",
        "# Write a function to find the country with the smallest population.\n",
        "# Write a function to calculate the total population.\n",
        "# Write a function to find the top 5 most populous countries.\n",
        "# Write a function to add a new country and its population to the dictionary.\n",
        "# Write a function to remove a country from the dictionary.\n",
        "# Write a function to update the population of a specific country.\n",
        "# Write a function to check if a country exists in the dictionary.\n",
        "# Write a function to get the population of a specific country.\n",
        "# Write a function to clear all entries from the dictionary.\n",
        "# Write a function to merge two dictionaries.\n",
        "# Write a function to sort a dictionary by its values.\n",
        "# Write a function to check if a dictionary is empty.\n",
        "# Write a function to find the country with the highest population density.\n",
        "# Write a function to create a dictionary from two lists, one containing keys and the other containing values."
      ],
      "metadata": {
        "id": "Uk6j9I2Qo9SX"
      }
    },
    {
      "cell_type": "code",
      "source": [
        "def smallest_population(d):\n",
        "    return min(d)\n",
        "def total_population(d):\n",
        "    return sum(d.values())\n",
        "def add_country(d,name,population):\n",
        "    d[name]=population\n",
        "def remove_countey(d,name):\n",
        "    d.pop(name)\n",
        "def update_population(d,name,population):\n",
        "    if name in d:\n",
        "        d[name]=population\n",
        "def country_exist(d,name):\n",
        "    return name in d\n",
        "def get_population(d,name):\n",
        "    return d.get(name)\n",
        "def clear_dectionary(d):\n",
        "    d.clear()\n",
        "def is_empty(d):\n",
        "    return len(d)==0\n",
        "def create_dict_from_lists(keys, values):\n",
        "    return dict(zip(keys, values))\n",
        "population_dict = {\n",
        "    'USA': 331002651,\n",
        "    'China': 1439323776,\n",
        "    'India': 1380004385,\n",
        "    'Brazil': 212559417,\n",
        "    'Nigeria': 206139589,\n",
        "    'Russia': 145912025,\n",
        "    'Mexico': 128932753,\n",
        "    'Japan': 126476461,\n",
        "    'Ethiopia': 114963588,\n",
        "    'Philippines': 109581078,\n",
        "    'Egypt': 91250000,\n",
        "    'Vietnam': 97338583,\n",
        "    'DR Congo': 85026334,\n",
        "    'Turkey': 84339067,\n",
        "    'Iran': 83992949\n",
        "}\n",
        "print('smallest-population: ',smallest_population(population_dict))\n",
        "print('total populatiopn',total_population(population_dict))\n",
        "add_country(population_dict, 'Newland', 123456789)\n",
        "print(population_dict)\n",
        "remove_countey(population_dict,'Newland')\n",
        "update_population(population_dict,'iran',84992947)\n",
        "country_exist(population_dict,'India')"
      ],
      "metadata": {
        "id": "IYT0QaUEKCrl"
      },
      "execution_count": null,
      "outputs": []
    },
    {
      "cell_type": "markdown",
      "source": [
        "# Problem 3: Tuple Operations\n",
        "\n",
        "# Create a tuple containing the names of 10 programming languages.\n",
        "# Write a function to reverse the elements of a tuple.\n",
        "# Write a function to find the index of a specific element in a tuple.\n",
        "# Write a function to convert a tuple to a list.\n",
        "# Write a function to count the occurrences of a specific element in a tuple.\n",
        "# Write a function to find the length of a tuple.\n",
        "# Write a function to check if two tuples are equal.\n",
        "# Write a function to slice a tuple.\n",
        "# Write a function to convert a tuple to a string.\n",
        "# Write a function to sort a tuple of tuples by the second element.\n",
        "# Write a function to zip two tuples.\n",
        "# Write a function to convert a tuple of strings to a single string.\n",
        "# Write a function to find the average value of a tuple of numbers.\n",
        "# Write a function to flatten a tuple of tuples into a single tuple.\n",
        "# Write a function to find the index of the first occurrence of a tuple within another tuple."
      ],
      "metadata": {
        "id": "O1pdoP0WpIco"
      }
    },
    {
      "cell_type": "code",
      "source": [
        "def reverse(t):\n",
        "    return t[::-1]\n",
        "def index(t,x):\n",
        "    return t.index(x)\n",
        "def convert(t):\n",
        "    return(list(t))\n",
        "def count(t,x):\n",
        "    return t.count(x)\n",
        "def length(t):\n",
        "    return len(t)\n",
        "def equal(t,t2):\n",
        "    if t==t2:\n",
        "        print('ti=t2')\n",
        "    else:\n",
        "        print('t1!=t2')\n",
        "def s(t2):\n",
        "    return str(t2)\n",
        "def sort(t2):\n",
        "    return sorted(t2)\n",
        "def zib(t,t2):\n",
        "    return zip(t,t2)\n",
        "def average(t2):\n",
        "    return sum(t2)/len(t2)\n",
        "t=('python','js','java','html','css','c++','c#','php','sql','c')\n",
        "t2=[1,5,4,8,2,3,7,6]\n",
        "print(reverse(t))\n",
        "print(index(t,'java'))\n",
        "print(convert(t))\n",
        "print(count(t,'java'))\n",
        "print(length(t))\n",
        "print(equal(t,t2))\n",
        "print(s(t2))\n",
        "print(sort(t2))\n",
        "print(zib(t,t2))\n",
        "print(average(t2))"
      ],
      "metadata": {
        "id": "YuorjtDiam5d"
      },
      "execution_count": null,
      "outputs": []
    },
    {
      "cell_type": "markdown",
      "source": [],
      "metadata": {
        "id": "vpkpAF2YpWte"
      }
    }
  ]
}